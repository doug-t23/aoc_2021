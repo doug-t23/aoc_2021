{
 "cells": [
  {
   "cell_type": "markdown",
   "metadata": {},
   "source": [
    "# Day 2 - Part 1)\n",
    "\n",
    "\n",
    "* forward X increases the horizontal position by X units.\n",
    "* down X increases the depth by X units.\n",
    "* up X decreases the depth by X units.\n"
   ]
  },
  {
   "cell_type": "code",
   "execution_count": 21,
   "metadata": {},
   "outputs": [
    {
     "data": {
      "text/html": [
       "<div>\n",
       "<style scoped>\n",
       "    .dataframe tbody tr th:only-of-type {\n",
       "        vertical-align: middle;\n",
       "    }\n",
       "\n",
       "    .dataframe tbody tr th {\n",
       "        vertical-align: top;\n",
       "    }\n",
       "\n",
       "    .dataframe thead th {\n",
       "        text-align: right;\n",
       "    }\n",
       "</style>\n",
       "<table border=\"1\" class=\"dataframe\">\n",
       "  <thead>\n",
       "    <tr style=\"text-align: right;\">\n",
       "      <th></th>\n",
       "      <th>dir</th>\n",
       "      <th>value</th>\n",
       "    </tr>\n",
       "  </thead>\n",
       "  <tbody>\n",
       "    <tr>\n",
       "      <th>0</th>\n",
       "      <td>forward</td>\n",
       "      <td>2</td>\n",
       "    </tr>\n",
       "    <tr>\n",
       "      <th>1</th>\n",
       "      <td>down</td>\n",
       "      <td>2</td>\n",
       "    </tr>\n",
       "    <tr>\n",
       "      <th>2</th>\n",
       "      <td>forward</td>\n",
       "      <td>6</td>\n",
       "    </tr>\n",
       "    <tr>\n",
       "      <th>3</th>\n",
       "      <td>forward</td>\n",
       "      <td>8</td>\n",
       "    </tr>\n",
       "    <tr>\n",
       "      <th>4</th>\n",
       "      <td>down</td>\n",
       "      <td>8</td>\n",
       "    </tr>\n",
       "  </tbody>\n",
       "</table>\n",
       "</div>"
      ],
      "text/plain": [
       "       dir  value\n",
       "0  forward      2\n",
       "1     down      2\n",
       "2  forward      6\n",
       "3  forward      8\n",
       "4     down      8"
      ]
     },
     "execution_count": 21,
     "metadata": {},
     "output_type": "execute_result"
    }
   ],
   "source": [
    "import pandas as pd\n",
    "\n",
    "df = pd.read_csv(\"input.txt\", delimiter=\" \", header=None)\n",
    "df = df.rename(columns={0:'dir', 1:'value'})\n",
    "df.head(5)"
   ]
  },
  {
   "cell_type": "code",
   "execution_count": 22,
   "metadata": {},
   "outputs": [],
   "source": [
    "fwd = df.loc[df.dir=='forward', 'value'].sum() # grab fwd total\n",
    "down = df.loc[df.dir=='down', 'value'].sum()\n",
    "up = df.loc[df.dir=='up', 'value'].sum()"
   ]
  },
  {
   "cell_type": "code",
   "execution_count": 23,
   "metadata": {},
   "outputs": [
    {
     "name": "stdout",
     "output_type": "stream",
     "text": [
      "2034 1810 1108\n"
     ]
    }
   ],
   "source": [
    "print(fwd, down, up)"
   ]
  },
  {
   "cell_type": "code",
   "execution_count": 24,
   "metadata": {},
   "outputs": [
    {
     "data": {
      "text/plain": [
       "1427868"
      ]
     },
     "execution_count": 24,
     "metadata": {},
     "output_type": "execute_result"
    }
   ],
   "source": [
    "fwd * (down-up) #answer = final horizontal position by your final depth"
   ]
  },
  {
   "cell_type": "code",
   "execution_count": null,
   "metadata": {},
   "outputs": [],
   "source": []
  },
  {
   "cell_type": "markdown",
   "metadata": {},
   "source": [
    "# Day 2 - Part 2)\n",
    "\n",
    "\n",
    "* down X increases your aim by X units.\n",
    "* up X decreases your aim by X units.\n",
    "* forward X does two things:\n",
    "    * It increases your horizontal position by X units.\n",
    "    * It increases your depth by your aim multiplied by X.\n",
    "\n"
   ]
  },
  {
   "cell_type": "markdown",
   "metadata": {},
   "source": [
    "## Example"
   ]
  },
  {
   "cell_type": "code",
   "execution_count": 27,
   "metadata": {},
   "outputs": [
    {
     "data": {
      "text/html": [
       "<div>\n",
       "<style scoped>\n",
       "    .dataframe tbody tr th:only-of-type {\n",
       "        vertical-align: middle;\n",
       "    }\n",
       "\n",
       "    .dataframe tbody tr th {\n",
       "        vertical-align: top;\n",
       "    }\n",
       "\n",
       "    .dataframe thead th {\n",
       "        text-align: right;\n",
       "    }\n",
       "</style>\n",
       "<table border=\"1\" class=\"dataframe\">\n",
       "  <thead>\n",
       "    <tr style=\"text-align: right;\">\n",
       "      <th></th>\n",
       "      <th>dir</th>\n",
       "      <th>value</th>\n",
       "    </tr>\n",
       "  </thead>\n",
       "  <tbody>\n",
       "    <tr>\n",
       "      <th>0</th>\n",
       "      <td>forward</td>\n",
       "      <td>5</td>\n",
       "    </tr>\n",
       "    <tr>\n",
       "      <th>1</th>\n",
       "      <td>down</td>\n",
       "      <td>5</td>\n",
       "    </tr>\n",
       "    <tr>\n",
       "      <th>2</th>\n",
       "      <td>forward</td>\n",
       "      <td>8</td>\n",
       "    </tr>\n",
       "    <tr>\n",
       "      <th>3</th>\n",
       "      <td>up</td>\n",
       "      <td>3</td>\n",
       "    </tr>\n",
       "    <tr>\n",
       "      <th>4</th>\n",
       "      <td>down</td>\n",
       "      <td>8</td>\n",
       "    </tr>\n",
       "    <tr>\n",
       "      <th>5</th>\n",
       "      <td>forward</td>\n",
       "      <td>2</td>\n",
       "    </tr>\n",
       "  </tbody>\n",
       "</table>\n",
       "</div>"
      ],
      "text/plain": [
       "       dir  value\n",
       "0  forward      5\n",
       "1     down      5\n",
       "2  forward      8\n",
       "3       up      3\n",
       "4     down      8\n",
       "5  forward      2"
      ]
     },
     "execution_count": 27,
     "metadata": {},
     "output_type": "execute_result"
    }
   ],
   "source": [
    "directions = ['forward', 'down', 'forward', 'up', 'down', 'forward']\n",
    "values = [5,5,8,3,8,2]\n",
    "\n",
    "test_df = pd.DataFrame()\n",
    "test_df['dir'] = directions\n",
    "test_df['value'] = values\n",
    "\n",
    "test_df"
   ]
  },
  {
   "cell_type": "code",
   "execution_count": 55,
   "metadata": {},
   "outputs": [
    {
     "name": "stdout",
     "output_type": "stream",
     "text": [
      "aim:10, position:15, depth:60\n",
      "answer: 900\n"
     ]
    }
   ],
   "source": [
    "aim = 0\n",
    "depth = 0\n",
    "pos = 0\n",
    "\n",
    "for idx, row in test_df.iterrows():\n",
    "    \n",
    "    if row.dir == 'forward':\n",
    "        pos += row.value\n",
    "        depth += (aim * row.value)\n",
    "    elif row.dir == 'down':\n",
    "        aim += row.value\n",
    "    elif row.dir == 'up':\n",
    "        aim -= row.value    \n",
    "    \n",
    "    #print(f\"{idx} - {row.dir}: aim:{aim}, position:{pos}, depth:{depth}\")\n",
    "    \n",
    "print(f\"aim:{aim}, position:{pos}, depth:{depth}\")\n",
    "print(f\"answer: {pos*depth}\")"
   ]
  },
  {
   "cell_type": "markdown",
   "metadata": {},
   "source": [
    "### Actual"
   ]
  },
  {
   "cell_type": "code",
   "execution_count": 56,
   "metadata": {},
   "outputs": [
    {
     "name": "stdout",
     "output_type": "stream",
     "text": [
      "aim:702, position:2034, depth:770963\n",
      "answer: 1568138742\n"
     ]
    }
   ],
   "source": [
    "aim = 0\n",
    "depth = 0\n",
    "pos = 0\n",
    "\n",
    "for idx, row in df.iterrows(): #eurgh had to use a loop\n",
    "    \n",
    "    if row.dir == 'forward':\n",
    "        pos += row.value\n",
    "        depth += (aim * row.value)\n",
    "    elif row.dir == 'down':\n",
    "        aim += row.value\n",
    "    elif row.dir == 'up':\n",
    "        aim -= row.value    \n",
    "    \n",
    "    #print(f\"{idx} - action: {row.dir}: aim:{aim}, position:{pos}, depth:{depth}\")\n",
    "    \n",
    "print(f\"aim:{aim}, position:{pos}, depth:{depth}\")\n",
    "print(f\"answer: {pos*depth}\")"
   ]
  },
  {
   "cell_type": "code",
   "execution_count": null,
   "metadata": {},
   "outputs": [],
   "source": []
  }
 ],
 "metadata": {
  "kernelspec": {
   "display_name": "Python [conda env:doug] *",
   "language": "python",
   "name": "conda-env-doug-py"
  },
  "language_info": {
   "codemirror_mode": {
    "name": "ipython",
    "version": 3
   },
   "file_extension": ".py",
   "mimetype": "text/x-python",
   "name": "python",
   "nbconvert_exporter": "python",
   "pygments_lexer": "ipython3",
   "version": "3.8.5"
  }
 },
 "nbformat": 4,
 "nbformat_minor": 4
}
